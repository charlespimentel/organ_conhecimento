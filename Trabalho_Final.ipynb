{
  "nbformat": 4,
  "nbformat_minor": 0,
  "metadata": {
    "colab": {
      "name": "Trabalho_Final.ipynb",
      "provenance": [],
      "authorship_tag": "ABX9TyNSAqARFt7h3JQjJbEfDPec",
      "include_colab_link": true
    },
    "kernelspec": {
      "name": "python3",
      "display_name": "Python 3"
    },
    "language_info": {
      "name": "python"
    }
  },
  "cells": [
    {
      "cell_type": "markdown",
      "metadata": {
        "id": "view-in-github",
        "colab_type": "text"
      },
      "source": [
        "<a href=\"https://colab.research.google.com/github/charlespimentel/organ_conhecimento/blob/main/Trabalho_Final.ipynb\" target=\"_parent\"><img src=\"https://colab.research.google.com/assets/colab-badge.svg\" alt=\"Open In Colab\"/></a>"
      ]
    },
    {
      "cell_type": "code",
      "metadata": {
        "id": "w_xvXmVcVtn4"
      },
      "source": [
        "import pandas as pd #for handling csv and csv contents"
      ],
      "execution_count": null,
      "outputs": []
    },
    {
      "cell_type": "code",
      "metadata": {
        "colab": {
          "base_uri": "https://localhost:8080/"
        },
        "id": "_B7Ro2sJV6NX",
        "outputId": "3f00247a-a5fd-4a5b-9369-9c8c5cce3c99"
      },
      "source": [
        "pip install rdflib"
      ],
      "execution_count": null,
      "outputs": [
        {
          "output_type": "stream",
          "text": [
            "Collecting rdflib\n",
            "  Downloading rdflib-6.0.0-py3-none-any.whl (376 kB)\n",
            "\u001b[K     |████████████████████████████████| 376 kB 6.7 MB/s \n",
            "\u001b[?25hCollecting isodate\n",
            "  Downloading isodate-0.6.0-py2.py3-none-any.whl (45 kB)\n",
            "\u001b[K     |████████████████████████████████| 45 kB 2.6 MB/s \n",
            "\u001b[?25hRequirement already satisfied: setuptools in /usr/local/lib/python3.7/dist-packages (from rdflib) (57.2.0)\n",
            "Requirement already satisfied: pyparsing in /usr/local/lib/python3.7/dist-packages (from rdflib) (2.4.7)\n",
            "Requirement already satisfied: six in /usr/local/lib/python3.7/dist-packages (from isodate->rdflib) (1.15.0)\n",
            "Installing collected packages: isodate, rdflib\n",
            "Successfully installed isodate-0.6.0 rdflib-6.0.0\n"
          ],
          "name": "stdout"
        }
      ]
    },
    {
      "cell_type": "code",
      "metadata": {
        "id": "43wl-slqV5LA"
      },
      "source": [
        "from rdflib import Graph, Literal, RDF, URIRef, Namespace #basic RDF handling"
      ],
      "execution_count": null,
      "outputs": []
    },
    {
      "cell_type": "code",
      "metadata": {
        "id": "foUwQZxuWBn5"
      },
      "source": [
        "from rdflib.namespace import FOAF , XSD #most common namespaces"
      ],
      "execution_count": null,
      "outputs": []
    },
    {
      "cell_type": "code",
      "metadata": {
        "id": "sW-gjJr-WEua"
      },
      "source": [
        "import urllib.parse #for parsing strings to URI's"
      ],
      "execution_count": null,
      "outputs": []
    },
    {
      "cell_type": "code",
      "metadata": {
        "id": "yX4wGgS9WIN5"
      },
      "source": [
        "url='https://raw.githubusercontent.com/KRontheWeb/csv2rdf-tutorial/master/example.csv'\n",
        "df=pd.read_csv(url,sep=\";\",quotechar='\"')\n",
        "# df # uncomment to check for contents"
      ],
      "execution_count": null,
      "outputs": []
    },
    {
      "cell_type": "code",
      "metadata": {
        "id": "TDzU9E-XWMC2"
      },
      "source": [
        "g = Graph()\n",
        "ppl = Namespace('http://example.org/people/')\n",
        "loc = Namespace('http://mylocations.org/addresses/')\n",
        "schema = Namespace('http://schema.org/')"
      ],
      "execution_count": null,
      "outputs": []
    },
    {
      "cell_type": "code",
      "metadata": {
        "id": "bpqrO-EqWjhb"
      },
      "source": [
        "for index, row in df.iterrows():\n",
        "    g.add((URIRef(ppl+row['Name']), RDF.type, FOAF.Person))\n",
        "    g.add((URIRef(ppl+row['Name']), URIRef(schema+'name'), Literal(row['Name'], datatype=XSD.string) ))\n",
        "    g.add((URIRef(ppl+row['Name']), FOAF.age, Literal(row['Age'], datatype=XSD.integer) ))\n",
        "    g.add((URIRef(ppl+row['Name']), URIRef(schema+'address'), Literal(row['Address'], datatype=XSD.string) ))\n",
        "    g.add((URIRef(loc+urllib.parse.quote(row['Address'])), URIRef(schema+'name'), Literal(row['Address'], datatype=XSD.string) ))"
      ],
      "execution_count": null,
      "outputs": []
    },
    {
      "cell_type": "code",
      "metadata": {
        "colab": {
          "base_uri": "https://localhost:8080/"
        },
        "id": "vavbb4tGW35R",
        "outputId": "71c95879-7487-48e0-c5a0-c2bb79daa5c4"
      },
      "source": [
        "print(g.serialize(format='turtle'))"
      ],
      "execution_count": null,
      "outputs": [
        {
          "output_type": "stream",
          "text": [
            "@prefix ns1: <http://xmlns.com/foaf/0.1/> .\n",
            "@prefix ns2: <http://schema.org/> .\n",
            "@prefix xsd: <http://www.w3.org/2001/XMLSchema#> .\n",
            "\n",
            "<http://example.org/people/Jake> a ns1:Person ;\n",
            "    ns2:address \"12E Street 98\"^^xsd:string ;\n",
            "    ns2:name \"Jake\"^^xsd:string ;\n",
            "    ns1:age 42 .\n",
            "\n",
            "<http://example.org/people/Jenny> a ns1:Person ;\n",
            "    ns2:address \"Leidseplein 2\"^^xsd:string ;\n",
            "    ns2:name \"Jenny\"^^xsd:string ;\n",
            "    ns1:age 12 .\n",
            "\n",
            "<http://example.org/people/Jill> a ns1:Person ;\n",
            "    ns2:address \"52W Street 5\"^^xsd:string ;\n",
            "    ns2:name \"Jill\"^^xsd:string ;\n",
            "    ns1:age 28 .\n",
            "\n",
            "<http://example.org/people/John> a ns1:Person ;\n",
            "    ns2:address \"Dam 52\"^^xsd:string ;\n",
            "    ns2:name \"John\"^^xsd:string ;\n",
            "    ns1:age 32 .\n",
            "\n",
            "<http://mylocations.org/addresses/12E%20Street%2098> ns2:name \"12E Street 98\"^^xsd:string .\n",
            "\n",
            "<http://mylocations.org/addresses/52W%20Street%205> ns2:name \"52W Street 5\"^^xsd:string .\n",
            "\n",
            "<http://mylocations.org/addresses/Dam%2052> ns2:name \"Dam 52\"^^xsd:string .\n",
            "\n",
            "<http://mylocations.org/addresses/Leidseplein%202> ns2:name \"Leidseplein 2\"^^xsd:string .\n",
            "\n",
            "\n"
          ],
          "name": "stdout"
        }
      ]
    },
    {
      "cell_type": "code",
      "metadata": {
        "id": "2ObVupQ4YOtc"
      },
      "source": [
        "g.serialize('mycsv2rdf.ttl',format='turtle')"
      ],
      "execution_count": null,
      "outputs": []
    }
  ]
}